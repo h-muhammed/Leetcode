{
 "cells": [
  {
   "attachments": {},
   "cell_type": "markdown",
   "metadata": {},
   "source": [
    "### 20. Valid Parentheses"
   ]
  },
  {
   "cell_type": "code",
   "execution_count": null,
   "metadata": {},
   "outputs": [],
   "source": [
    "class Solution:\n",
    "    def isValid(self, s: str) -> bool:\n",
    "        \"\"\"\n",
    "\n",
    "        \"\"\"\n",
    "        stack = []\n",
    "        for item in s:\n",
    "            if item == '(' or item == '{' or item == '[':\n",
    "                stack.append(item)\n",
    "            else:\n",
    "                if not stack:\n",
    "                    return False\n",
    "                elif item == ')' and stack[-1] == '(':\n",
    "                    stack.pop()\n",
    "                elif item == '}' and stack[-1] == '{':\n",
    "                    stack.pop()\n",
    "                elif item == ']' and stack[-1] == '[':\n",
    "                    stack.pop()\n",
    "                else: return False\n",
    "                \n",
    "                \n",
    "        return not stack\n"
   ]
  },
  {
   "cell_type": "code",
   "execution_count": null,
   "metadata": {},
   "outputs": [],
   "source": []
  }
 ],
 "metadata": {
  "kernelspec": {
   "display_name": "base",
   "language": "python",
   "name": "python3"
  },
  "language_info": {
   "name": "python",
   "version": "3.9.13"
  },
  "orig_nbformat": 4
 },
 "nbformat": 4,
 "nbformat_minor": 2
}
