{
 "cells": [
  {
   "attachments": {},
   "cell_type": "markdown",
   "metadata": {},
   "source": [
    "### 1. Two Sum"
   ]
  },
  {
   "cell_type": "code",
   "execution_count": null,
   "metadata": {},
   "outputs": [],
   "source": [
    "class Solution:\n",
    "    def twoSum(self, nums: List[int], target: int) -> List[int]:\n",
    "        \"\"\"\n",
    "        itype: List[int], [int]\n",
    "        rtype: List[int]\n",
    "        given a set of array integers and a target value\\\n",
    "        return the index of two value which contains the\\\n",
    "        the target value.\n",
    "        \"\"\"\n",
    "        store = {}\n",
    "        for idx in range(len(nums)):\n",
    "            complement = target - nums[idx]\n",
    "            if complement in store:\n",
    "                return [store.get(complement), idx]\n",
    "            store[nums[idx]] = idx"
   ]
  },
  {
   "cell_type": "code",
   "execution_count": null,
   "metadata": {},
   "outputs": [],
   "source": [
    "target = 6\n",
    "nums = [3, 2, 4]\n",
    "solve = Solution()\n",
    "print(solve.twoSum(nums, target))"
   ]
  },
  {
   "attachments": {},
   "cell_type": "markdown",
   "metadata": {},
   "source": [
    "### 219. Contains Duplicate II"
   ]
  },
  {
   "cell_type": "code",
   "execution_count": null,
   "metadata": {},
   "outputs": [],
   "source": [
    "class Solution:\n",
    "    def containsNearbyDuplicate(self, nums: List[int], k: int) -> bool:\n",
    "        \"\"\"\n",
    "\n",
    "        \"\"\"\n",
    "        hashMap = {}\n",
    "        for idx in range(len(nums)):\n",
    "            print(idx)\n",
    "            if nums[idx] in hashMap and idx-hashMap[nums[idx]]<=k:\n",
    "                    return True\n",
    "            else: hashMap[nums[idx]] = idx\n",
    "\n",
    "        return False"
   ]
  },
  {
   "cell_type": "code",
   "execution_count": null,
   "metadata": {},
   "outputs": [],
   "source": [
    "k = 3\n",
    "nums = [1,2,3,1]\n",
    "solve = Solution()\n",
    "print(solve.twoSum(nums, k))"
   ]
  },
  {
   "attachments": {},
   "cell_type": "markdown",
   "metadata": {},
   "source": [
    "### 350. Intersection of Two Arrays II"
   ]
  },
  {
   "cell_type": "code",
   "execution_count": null,
   "metadata": {},
   "outputs": [],
   "source": [
    "class FindIntersect:\n",
    "    def intersect(self, nums1: List[int], nums2: List[int]) -> List[int]:\n",
    "        \"\"\"\n",
    "        \n",
    "        \"\"\"\n",
    "        result = []\n",
    "        for idx in range(len(nums1)):\n",
    "            if nums1[idx] in nums2:\n",
    "                nums2.remove(nums1[idx])\n",
    "                result.append(nums1[idx])\n",
    "        return result"
   ]
  },
  {
   "cell_type": "code",
   "execution_count": null,
   "metadata": {},
   "outputs": [],
   "source": [
    "nums1 = [3, 2, 4]\n",
    "nums2 = [2, 4]\n",
    "solve = FindIntersect()\n",
    "print(solve.intersect(nums1, nums2))"
   ]
  },
  {
   "attachments": {},
   "cell_type": "markdown",
   "metadata": {},
   "source": [
    "### 448. Find All Numbers Disappeared in an Array"
   ]
  },
  {
   "cell_type": "code",
   "execution_count": null,
   "metadata": {},
   "outputs": [],
   "source": [
    "class FindIntersect:\n",
    "    def intersect(self, nums1: List[int], nums2: List[int]) -> List[int]:\n",
    "        \"\"\"\n",
    "        \n",
    "        \"\"\"\n",
    "        result = []\n",
    "        for idx in range(len(nums1)):\n",
    "            if nums1[idx] in nums2:\n",
    "                nums2.remove(nums1[idx])\n",
    "                result.append(nums1[idx])\n",
    "        return result"
   ]
  },
  {
   "cell_type": "code",
   "execution_count": null,
   "metadata": {},
   "outputs": [],
   "source": [
    "nums = [4,3,2,7,8,2,3,1]\n",
    "solve = FindDisappears()\n",
    "print(solve.findDisappearedNumbers(nums))"
   ]
  },
  {
   "attachments": {},
   "cell_type": "markdown",
   "metadata": {},
   "source": [
    "### 217. Contains Duplicate"
   ]
  },
  {
   "cell_type": "code",
   "execution_count": null,
   "metadata": {},
   "outputs": [],
   "source": [
    "class Solution:\n",
    "    def containsDuplicate(self, nums: List[int]) -> bool:\n",
    "        \"\"\"itype: List[int], rtype: bool\n",
    "        return true if any duplicates available\n",
    "        else return false\n",
    "        \"\"\"\n",
    "        check_duplicate = {}\n",
    "        for idx in range(len(nums)):\n",
    "            check_duplicate[nums[idx]] = 0\n",
    "        for idx in range(len(nums)):\n",
    "            check_duplicate[nums[idx]] += 1\n",
    "        values = check_duplicate.values()\n",
    "        if max(values) > 1:\n",
    "            return True\n",
    "        else: return False"
   ]
  },
  {
   "cell_type": "code",
   "execution_count": null,
   "metadata": {},
   "outputs": [],
   "source": []
  }
 ],
 "metadata": {
  "language_info": {
   "name": "python"
  },
  "orig_nbformat": 4
 },
 "nbformat": 4,
 "nbformat_minor": 2
}
