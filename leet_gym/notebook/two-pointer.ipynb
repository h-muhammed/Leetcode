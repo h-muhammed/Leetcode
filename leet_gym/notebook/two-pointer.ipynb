{
 "cells": [
  {
   "attachments": {},
   "cell_type": "markdown",
   "metadata": {},
   "source": [
    "### 11. Container With Most Water"
   ]
  },
  {
   "cell_type": "code",
   "execution_count": null,
   "metadata": {
    "vscode": {
     "languageId": "plaintext"
    }
   },
   "outputs": [],
   "source": [
    "class Solution:\n",
    "    def maxArea(self, height: List[int]) -> int:\n",
    "        \"\"\"\n",
    "\n",
    "        \"\"\"\n",
    "        l = 0\n",
    "        r = len(height)-1\n",
    "        result = 0\n",
    "        while l < r:\n",
    "            area = (r - l) * min(height[l], height[r])\n",
    "            result = max(result, area)\n",
    "            if height[l]>height[r]: r -= 1\n",
    "            else: l += 1\n",
    "        return result"
   ]
  },
  {
   "cell_type": "code",
   "execution_count": null,
   "metadata": {
    "vscode": {
     "languageId": "plaintext"
    }
   },
   "outputs": [],
   "source": []
  }
 ],
 "metadata": {
  "language_info": {
   "name": "python"
  },
  "orig_nbformat": 4
 },
 "nbformat": 4,
 "nbformat_minor": 2
}
