{
 "cells": [
  {
   "attachments": {},
   "cell_type": "markdown",
   "metadata": {},
   "source": [
    "### 11. Container With Most Water"
   ]
  },
  {
   "cell_type": "code",
   "execution_count": null,
   "metadata": {},
   "outputs": [],
   "source": [
    "class Solution:\n",
    "    def maxArea(self, height: List[int]) -> int:\n",
    "        \"\"\"\n",
    "\n",
    "        \"\"\"\n",
    "        l = 0\n",
    "        r = len(height)-1\n",
    "        result = 0\n",
    "        while l < r:\n",
    "            area = (r - l) * min(height[l], height[r])\n",
    "            result = max(result, area)\n",
    "            if height[l]>height[r]: r -= 1\n",
    "            else: l += 1\n",
    "        return result"
   ]
  },
  {
   "cell_type": "code",
   "execution_count": null,
   "metadata": {},
   "outputs": [],
   "source": []
  },
  {
   "attachments": {},
   "cell_type": "markdown",
   "metadata": {},
   "source": [
    "### Python solution: 1968-array-with-elements-not-equal-to-average-of-neighbors"
   ]
  },
  {
   "cell_type": "code",
   "execution_count": 5,
   "metadata": {},
   "outputs": [],
   "source": [
    "from typing import List\n",
    "\n",
    "\n",
    "class Solution:\n",
    "    def rearrangeArray(self, nums: List[int]) -> List[int]:\n",
    "        \"\"\"itype: List[int]\n",
    "        rtype: List[int]\n",
    "        checking the average of two adjacent\n",
    "        numbers of a number is not equal.\n",
    "        \"\"\"\n",
    "        for idx in range(1, len(nums)-1):\n",
    "            if (nums[idx-1] > nums[idx] > nums[idx+1]):\n",
    "                nums[idx] = nums[idx] ^ nums[idx+1]\n",
    "                nums[idx+1] = nums[idx] ^ nums[idx+1]\n",
    "                nums[idx] = nums[idx] ^ nums[idx+1]\n",
    "            if (nums[idx-1] < nums[idx] < nums[idx+1]):\n",
    "                nums[idx] = nums[idx] ^ nums[idx+1]\n",
    "                nums[idx+1] = nums[idx] ^ nums[idx+1]\n",
    "                nums[idx] = nums[idx] ^ nums[idx+1]\n",
    "        return nums"
   ]
  },
  {
   "cell_type": "code",
   "execution_count": 6,
   "metadata": {},
   "outputs": [
    {
     "data": {
      "text/plain": [
       "[1, 3, 2, 5, 4]"
      ]
     },
     "execution_count": 6,
     "metadata": {},
     "output_type": "execute_result"
    }
   ],
   "source": [
    "nums = [1,2,3,4,5]\n",
    "obj = Solution()\n",
    "obj.rearrangeArray(nums)"
   ]
  },
  {
   "cell_type": "code",
   "execution_count": null,
   "metadata": {},
   "outputs": [],
   "source": []
  }
 ],
 "metadata": {
  "kernelspec": {
   "display_name": "base",
   "language": "python",
   "name": "python3"
  },
  "language_info": {
   "codemirror_mode": {
    "name": "ipython",
    "version": 3
   },
   "file_extension": ".py",
   "mimetype": "text/x-python",
   "name": "python",
   "nbconvert_exporter": "python",
   "pygments_lexer": "ipython3",
   "version": "3.9.13"
  },
  "orig_nbformat": 4
 },
 "nbformat": 4,
 "nbformat_minor": 2
}
