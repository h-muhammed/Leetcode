{
 "cells": [
  {
   "attachments": {},
   "cell_type": "markdown",
   "id": "7a297e64",
   "metadata": {},
   "source": [
    "##  26. Remove Duplicates from Sorted Array"
   ]
  },
  {
   "cell_type": "code",
   "execution_count": null,
   "id": "9dce33ad",
   "metadata": {},
   "outputs": [],
   "source": [
    "from typing import List\n",
    "class Solution:\n",
    "    \"\"\"\n",
    "    \n",
    "    \"\"\"\n",
    "    def removeDuplicates(self, nums: List[int]) -> int:\n",
    "        uniqueNum = 1\n",
    "        for idx in range(len(nums)-1):\n",
    "            if nums[idx+1] - nums[idx]>0:\n",
    "                nums[uniqueNum] = nums[idx+1]\n",
    "                uniqueNum+=1\n",
    "        return uniqueNum"
   ]
  },
  {
   "cell_type": "code",
   "execution_count": null,
   "id": "b60eb7bd",
   "metadata": {},
   "outputs": [
    {
     "data": {
      "text/plain": [
       "5"
      ]
     },
     "execution_count": 12,
     "metadata": {},
     "output_type": "execute_result"
    }
   ],
   "source": [
    "nums = [0,0,1,1,1,2,2,3,3,4]\n",
    "obj_solution = Solution()\n",
    "obj_solution.removeDuplicates(nums)"
   ]
  },
  {
   "attachments": {},
   "cell_type": "markdown",
   "id": "40dcf666",
   "metadata": {},
   "source": [
    "## 27. Remove Element"
   ]
  },
  {
   "cell_type": "code",
   "execution_count": null,
   "id": "2cad7a86",
   "metadata": {},
   "outputs": [],
   "source": [
    "class Solution:\n",
    "    def removeElement(self, nums: List[int], val: int) -> int:\n",
    "        \"\"\"\n",
    "        Given a list of integer numbers and a \n",
    "        target value. Return the those value which \n",
    "        are not equal to target value\n",
    "        \"\"\"\n",
    "        count = 0\n",
    "        for idx in range(len(nums)):\n",
    "           \n",
    "            if nums[idx] != val:\n",
    "                nums[count] = nums[idx]\n",
    "                count+=1 \n",
    "\n",
    "        return count"
   ]
  },
  {
   "cell_type": "code",
   "execution_count": null,
   "id": "9b327968",
   "metadata": {},
   "outputs": [
    {
     "data": {
      "text/plain": [
       "2"
      ]
     },
     "execution_count": 18,
     "metadata": {},
     "output_type": "execute_result"
    }
   ],
   "source": [
    "nums = [3,2,2,3]\n",
    "val = 3\n",
    "obj_solution = Solution()\n",
    "obj_solution.removeElement(nums, val)"
   ]
  },
  {
   "cell_type": "code",
   "execution_count": null,
   "id": "f1c4d24f",
   "metadata": {},
   "outputs": [],
   "source": [
    "## 6. Zigzag Conversion"
   ]
  },
  {
   "attachments": {},
   "cell_type": "markdown",
   "id": "526313e4",
   "metadata": {},
   "source": [
    "## 6. Zigzag Conversion"
   ]
  },
  {
   "cell_type": "code",
   "execution_count": 2,
   "id": "8a1653fe",
   "metadata": {},
   "outputs": [],
   "source": [
    "class Solution:\n",
    "    def convert(self, s: str, numRows: int) -> str:\n",
    "        \"\"\"\n",
    "        \n",
    "        \"\"\"\n",
    "        \n",
    "        if numRows == 1:\n",
    "            return s\n",
    "        zigzag = ''\n",
    "        for row in range(numRows):\n",
    "            increment = (numRows - 1) * 2\n",
    "            for charInd in range(row, len(s), increment):\n",
    "                zigzag += s[charInd]\n",
    "                if (row > 0 and row < numRows - 1 and charInd + increment - 2 * row < len(s)):\n",
    "                    print(charInd + increment - 2 * row)\n",
    "                    zigzag += s[charInd + increment - 2 * row]\n",
    "        return  zigzag"
   ]
  },
  {
   "cell_type": "code",
   "execution_count": 3,
   "id": "e5d47942",
   "metadata": {},
   "outputs": [
    {
     "name": "stdout",
     "output_type": "stream",
     "text": [
      "5\n",
      "11\n",
      "4\n",
      "10\n"
     ]
    },
    {
     "data": {
      "text/plain": [
       "'PINALSIGYAHRPI'"
      ]
     },
     "execution_count": 3,
     "metadata": {},
     "output_type": "execute_result"
    }
   ],
   "source": [
    "s = \"PAYPALISHIRING\"\n",
    "numRows = 4\n",
    "\n",
    "obj_solution = Solution()\n",
    "obj_solution.convert(s, numRows)"
   ]
  },
  {
   "cell_type": "code",
   "execution_count": null,
   "id": "1712ffc9",
   "metadata": {},
   "outputs": [],
   "source": []
  },
  {
   "attachments": {},
   "cell_type": "markdown",
   "id": "bf7f695b",
   "metadata": {},
   "source": [
    "### 242. Valid Anagram"
   ]
  },
  {
   "cell_type": "code",
   "execution_count": 3,
   "id": "775da2c7",
   "metadata": {},
   "outputs": [],
   "source": [
    "class Solution:\n",
    "    def isAnagram(self, s: str, t: str) -> bool:\n",
    "        \"\"\"\n",
    "        \n",
    "        \"\"\"\n",
    "        anaHash = {}\n",
    "        if len(s) != len(t): return False\n",
    "        for idx in range(len(s)):\n",
    "            anaHash[s[idx]] = 1 + anaHash.get(s[idx], 0)\n",
    "        for idx in range(len(t)):\n",
    "            if t[idx] not in anaHash or anaHash[t[idx]] < 1:\n",
    "                return False\n",
    "            anaHash[t[idx]] -= 1\n",
    "        return True"
   ]
  },
  {
   "cell_type": "code",
   "execution_count": 4,
   "id": "53635ce4",
   "metadata": {},
   "outputs": [
    {
     "data": {
      "text/plain": [
       "True"
      ]
     },
     "execution_count": 4,
     "metadata": {},
     "output_type": "execute_result"
    }
   ],
   "source": [
    "s = \"anagram\"\n",
    "t = \"nagaram\"\n",
    "\n",
    "obj_solution = Solution()\n",
    "obj_solution.isAnagram(s, t)"
   ]
  },
  {
   "attachments": {},
   "cell_type": "markdown",
   "id": "c77b03d8",
   "metadata": {},
   "source": [
    "### 322. Coin Change"
   ]
  },
  {
   "cell_type": "code",
   "execution_count": null,
   "id": "ad2ffad9",
   "metadata": {},
   "outputs": [],
   "source": [
    "class Solution:\n",
    "    def coinChange(self, coins: List[int], amount: int) -> int:\n",
    "        \"\"\"\n",
    "        \n",
    "        \"\"\"\n",
    "        dp = [amount+1]*(amount + 1)\n",
    "        dp[0] = 0\n",
    "        for i in range(1, amount+1):\n",
    "            for elem in coins:\n",
    "                if i - elem>=0:\n",
    "                    dp[i] = min(dp[i], 1 + dp[i-elem])\n",
    "        return dp[amount] if dp[amount] != amount + 1 else -1"
   ]
  },
  {
   "attachments": {},
   "cell_type": "markdown",
   "id": "bbf95b3e",
   "metadata": {},
   "source": [
    "### 338. Counting Bits"
   ]
  },
  {
   "cell_type": "code",
   "execution_count": 2,
   "id": "17de5c12",
   "metadata": {},
   "outputs": [],
   "source": [
    "from typing import List\n",
    "\n",
    "class Solution:\n",
    "    def countBits(self, n: int) -> List[int]:\n",
    "        \"\"\"\n",
    "        \n",
    "        \"\"\"\n",
    "        ans = [0]*(n+1)\n",
    "        for i in range(1, n+1):\n",
    "            if i%2 != 0:\n",
    "                ans[i]+=ans[int(i/2)]+1\n",
    "            else:\n",
    "                ans[i] = ans[int(i/2)]\n",
    "        return ans\n"
   ]
  },
  {
   "cell_type": "code",
   "execution_count": 3,
   "id": "2242a1d9",
   "metadata": {},
   "outputs": [
    {
     "name": "stdout",
     "output_type": "stream",
     "text": [
      "[0, 1, 1, 2, 1, 2, 2, 3, 1, 2, 2]\n"
     ]
    }
   ],
   "source": [
    "#dp solution\n",
    "n = 10\n",
    "count_Bit_Obj = Solution()\n",
    "ans = count_Bit_Obj.countBits(n)\n",
    "print(ans)"
   ]
  },
  {
   "attachments": {},
   "cell_type": "markdown",
   "id": "43b57cf0",
   "metadata": {},
   "source": []
  },
  {
   "cell_type": "code",
   "execution_count": null,
   "id": "58dca45b",
   "metadata": {},
   "outputs": [],
   "source": [
    "class Solution:\n",
    "    def reverseBits(self, n: int) -> int:\n",
    "        \"\"\"\n",
    "\n",
    "        \"\"\"\n",
    "        bits = []\n",
    "        res = 0\n",
    "        while(n):\n",
    "            if n%2==1:\n",
    "                bits.append(1)\n",
    "                n = int(n/2)\n",
    "            else:\n",
    "                bits.append(0)\n",
    "                n = int(n/2)\n",
    "        for idx in range(len(bits), 32):\n",
    "            bits.append(0)\n",
    "        for idx in range(31, 0, -1):\n",
    "            if bits[idx] != 0:\n",
    "                res+=pow(2,(31-idx))\n",
    "          \n",
    "        return res"
   ]
  },
  {
   "attachments": {},
   "cell_type": "markdown",
   "id": "64af1749",
   "metadata": {},
   "source": []
  },
  {
   "cell_type": "code",
   "execution_count": null,
   "id": "75b8a1b3",
   "metadata": {},
   "outputs": [],
   "source": [
    "class Solution:\n",
    "    def reverseBits(self, n: int) -> int:\n",
    "        reversed_int=0\n",
    "\n",
    "        for i in range(32):\n",
    "            if(n%2==1):\n",
    "                reversed_int+=1\n",
    "            reversed_int*=2\n",
    "            n=n//2\n",
    "        \n",
    "        return reversed_int//2"
   ]
  }
 ],
 "metadata": {
  "kernelspec": {
   "display_name": "Python 3 (ipykernel)",
   "language": "python",
   "name": "python3"
  },
  "language_info": {
   "codemirror_mode": {
    "name": "ipython",
    "version": 3
   },
   "file_extension": ".py",
   "mimetype": "text/x-python",
   "name": "python",
   "nbconvert_exporter": "python",
   "pygments_lexer": "ipython3",
   "version": "3.9.13"
  }
 },
 "nbformat": 4,
 "nbformat_minor": 5
}
