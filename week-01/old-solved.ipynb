{
 "cells": [
  {
   "cell_type": "markdown",
   "id": "7a297e64",
   "metadata": {},
   "source": [
    "##  26. Remove Duplicates from Sorted Array"
   ]
  },
  {
   "cell_type": "code",
   "execution_count": 11,
   "id": "9dce33ad",
   "metadata": {},
   "outputs": [],
   "source": [
    "from typing import List\n",
    "class Solution:\n",
    "    \"\"\"\n",
    "    \n",
    "    \"\"\"\n",
    "    def removeDuplicates(self, nums: List[int]) -> int:\n",
    "        uniqueNum = 1\n",
    "        for idx in range(len(nums)-1):\n",
    "            if nums[idx+1] - nums[idx]>0:\n",
    "                nums[uniqueNum] = nums[idx+1]\n",
    "                uniqueNum+=1\n",
    "        return uniqueNum"
   ]
  },
  {
   "cell_type": "code",
   "execution_count": 12,
   "id": "b60eb7bd",
   "metadata": {},
   "outputs": [
    {
     "data": {
      "text/plain": [
       "5"
      ]
     },
     "execution_count": 12,
     "metadata": {},
     "output_type": "execute_result"
    }
   ],
   "source": [
    "nums = [0,0,1,1,1,2,2,3,3,4]\n",
    "obj_solution = Solution()\n",
    "obj_solution.removeDuplicates(nums)"
   ]
  },
  {
   "cell_type": "markdown",
   "id": "40dcf666",
   "metadata": {},
   "source": [
    "## 27. Remove Element"
   ]
  },
  {
   "cell_type": "code",
   "execution_count": 17,
   "id": "2cad7a86",
   "metadata": {},
   "outputs": [],
   "source": [
    "class Solution:\n",
    "    def removeElement(self, nums: List[int], val: int) -> int:\n",
    "        \"\"\"\n",
    "        Given a list of integer numbers and a \n",
    "        target value. Return the those value which \n",
    "        are not equal to target value\n",
    "        \"\"\"\n",
    "        count = 0\n",
    "        for idx in range(len(nums)):\n",
    "           \n",
    "            if nums[idx] != val:\n",
    "                nums[count] = nums[idx]\n",
    "                count+=1 \n",
    "\n",
    "        return count"
   ]
  },
  {
   "cell_type": "code",
   "execution_count": 18,
   "id": "9b327968",
   "metadata": {},
   "outputs": [
    {
     "data": {
      "text/plain": [
       "2"
      ]
     },
     "execution_count": 18,
     "metadata": {},
     "output_type": "execute_result"
    }
   ],
   "source": [
    "nums = [3,2,2,3]\n",
    "val = 3\n",
    "obj_solution = Solution()\n",
    "obj_solution.removeElement(nums, val)"
   ]
  },
  {
   "cell_type": "code",
   "execution_count": null,
   "id": "f1c4d24f",
   "metadata": {},
   "outputs": [],
   "source": []
  }
 ],
 "metadata": {
  "kernelspec": {
   "display_name": "Python 3 (ipykernel)",
   "language": "python",
   "name": "python3"
  },
  "language_info": {
   "codemirror_mode": {
    "name": "ipython",
    "version": 3
   },
   "file_extension": ".py",
   "mimetype": "text/x-python",
   "name": "python",
   "nbconvert_exporter": "python",
   "pygments_lexer": "ipython3",
   "version": "3.9.13"
  }
 },
 "nbformat": 4,
 "nbformat_minor": 5
}
