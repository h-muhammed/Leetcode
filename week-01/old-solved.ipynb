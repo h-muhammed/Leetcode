{
 "cells": [
  {
   "cell_type": "markdown",
   "id": "7a297e64",
   "metadata": {},
   "source": [
    "##  26. Remove Duplicates from Sorted Array"
   ]
  },
  {
   "cell_type": "code",
   "execution_count": null,
   "id": "9dce33ad",
   "metadata": {},
   "outputs": [],
   "source": [
    "from typing import List\n",
    "class Solution:\n",
    "    \"\"\"\n",
    "    \n",
    "    \"\"\"\n",
    "    def removeDuplicates(self, nums: List[int]) -> int:\n",
    "        uniqueNum = 1\n",
    "        for idx in range(len(nums)-1):\n",
    "            if nums[idx+1] - nums[idx]>0:\n",
    "                nums[uniqueNum] = nums[idx+1]\n",
    "                uniqueNum+=1\n",
    "        return uniqueNum"
   ]
  },
  {
   "cell_type": "code",
   "execution_count": null,
   "id": "b60eb7bd",
   "metadata": {},
   "outputs": [
    {
     "data": {
      "text/plain": [
       "5"
      ]
     },
     "execution_count": 12,
     "metadata": {},
     "output_type": "execute_result"
    }
   ],
   "source": [
    "nums = [0,0,1,1,1,2,2,3,3,4]\n",
    "obj_solution = Solution()\n",
    "obj_solution.removeDuplicates(nums)"
   ]
  },
  {
   "cell_type": "markdown",
   "id": "40dcf666",
   "metadata": {},
   "source": [
    "## 27. Remove Element"
   ]
  },
  {
   "cell_type": "code",
   "execution_count": null,
   "id": "2cad7a86",
   "metadata": {},
   "outputs": [],
   "source": [
    "class Solution:\n",
    "    def removeElement(self, nums: List[int], val: int) -> int:\n",
    "        \"\"\"\n",
    "        Given a list of integer numbers and a \n",
    "        target value. Return the those value which \n",
    "        are not equal to target value\n",
    "        \"\"\"\n",
    "        count = 0\n",
    "        for idx in range(len(nums)):\n",
    "           \n",
    "            if nums[idx] != val:\n",
    "                nums[count] = nums[idx]\n",
    "                count+=1 \n",
    "\n",
    "        return count"
   ]
  },
  {
   "cell_type": "code",
   "execution_count": null,
   "id": "9b327968",
   "metadata": {},
   "outputs": [
    {
     "data": {
      "text/plain": [
       "2"
      ]
     },
     "execution_count": 18,
     "metadata": {},
     "output_type": "execute_result"
    }
   ],
   "source": [
    "nums = [3,2,2,3]\n",
    "val = 3\n",
    "obj_solution = Solution()\n",
    "obj_solution.removeElement(nums, val)"
   ]
  },
  {
   "cell_type": "code",
   "execution_count": null,
   "id": "f1c4d24f",
   "metadata": {},
   "outputs": [],
   "source": [
    "## 6. Zigzag Conversion"
   ]
  },
  {
   "attachments": {},
   "cell_type": "markdown",
   "id": "526313e4",
   "metadata": {},
   "source": [
    "## 6. Zigzag Conversion"
   ]
  },
  {
   "cell_type": "code",
   "execution_count": 2,
   "id": "8a1653fe",
   "metadata": {},
   "outputs": [],
   "source": [
    "class Solution:\n",
    "    def convert(self, s: str, numRows: int) -> str:\n",
    "        \"\"\"\n",
    "        \n",
    "        \"\"\"\n",
    "        \n",
    "        if numRows == 1:\n",
    "            return s\n",
    "        zigzag = ''\n",
    "        for row in range(numRows):\n",
    "            increment = (numRows - 1) * 2\n",
    "            for charInd in range(row, len(s), increment):\n",
    "                zigzag += s[charInd]\n",
    "                if (row > 0 and row < numRows - 1 and charInd + increment - 2 * row < len(s)):\n",
    "                    print(charInd + increment - 2 * row)\n",
    "                    zigzag += s[charInd + increment - 2 * row]\n",
    "        return  zigzag"
   ]
  },
  {
   "cell_type": "code",
   "execution_count": 3,
   "id": "e5d47942",
   "metadata": {},
   "outputs": [
    {
     "name": "stdout",
     "output_type": "stream",
     "text": [
      "5\n",
      "11\n",
      "4\n",
      "10\n"
     ]
    },
    {
     "data": {
      "text/plain": [
       "'PINALSIGYAHRPI'"
      ]
     },
     "execution_count": 3,
     "metadata": {},
     "output_type": "execute_result"
    }
   ],
   "source": [
    "s = \"PAYPALISHIRING\"\n",
    "numRows = 4\n",
    "\n",
    "obj_solution = Solution()\n",
    "obj_solution.convert(s, numRows)"
   ]
  },
  {
   "cell_type": "code",
   "execution_count": null,
   "id": "8afda320",
   "metadata": {},
   "outputs": [],
   "source": []
  }
 ],
 "metadata": {
  "kernelspec": {
   "display_name": "Python 3 (ipykernel)",
   "language": "python",
   "name": "python3"
  },
  "language_info": {
   "codemirror_mode": {
    "name": "ipython",
    "version": 3
   },
   "file_extension": ".py",
   "mimetype": "text/x-python",
   "name": "python",
   "nbconvert_exporter": "python",
   "pygments_lexer": "ipython3",
   "version": "3.9.13"
  }
 },
 "nbformat": 4,
 "nbformat_minor": 5
}
