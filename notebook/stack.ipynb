{
 "cells": [
  {
   "attachments": {},
   "cell_type": "markdown",
   "metadata": {},
   "source": [
    "### 20. Valid Parentheses"
   ]
  },
  {
   "cell_type": "code",
   "execution_count": null,
   "metadata": {},
   "outputs": [],
   "source": [
    "class Solution:\n",
    "    def isValid(self, s: str) -> bool:\n",
    "        \"\"\"\n",
    "\n",
    "        \"\"\"\n",
    "        stack = []\n",
    "        for item in s:\n",
    "            if item == '(' or item == '{' or item == '[':\n",
    "                stack.append(item)\n",
    "            else:\n",
    "                if not stack:\n",
    "                    return False\n",
    "                elif item == ')' and stack[-1] == '(':\n",
    "                    stack.pop()\n",
    "                elif item == '}' and stack[-1] == '{':\n",
    "                    stack.pop()\n",
    "                elif item == ']' and stack[-1] == '[':\n",
    "                    stack.pop()\n",
    "                else: return False\n",
    "                \n",
    "                \n",
    "        return not stack\n"
   ]
  },
  {
   "attachments": {},
   "cell_type": "markdown",
   "metadata": {},
   "source": [
    "### 1544. Make The String Great"
   ]
  },
  {
   "cell_type": "code",
   "execution_count": null,
   "metadata": {},
   "outputs": [],
   "source": [
    "class Solution:\n",
    "    def makeGood(self, s: str) -> str:\n",
    "        \"\"\"itype: str\n",
    "        rtype: str\n",
    "        return a string after operating the given\n",
    "        instruction for a given string.\n",
    "        \"\"\"\n",
    "        stack = []\n",
    "        for idx in range(len(s)):\n",
    "            if not stack:\n",
    "                stack.append(s[idx])\n",
    "                continue\n",
    "            if(stack[-1].isupper() and stack[-1].lower() == s[idx]) or (stack[-1].islower() and stack[-1].upper() == s[idx]):\n",
    "                stack.pop()\n",
    "                continue\n",
    "            stack.append(s[idx])\n",
    "        return \"\".join(stack)"
   ]
  }
 ],
 "metadata": {
  "kernelspec": {
   "display_name": "base",
   "language": "python",
   "name": "python3"
  },
  "language_info": {
   "name": "python",
   "version": "3.9.13"
  },
  "orig_nbformat": 4
 },
 "nbformat": 4,
 "nbformat_minor": 2
}
